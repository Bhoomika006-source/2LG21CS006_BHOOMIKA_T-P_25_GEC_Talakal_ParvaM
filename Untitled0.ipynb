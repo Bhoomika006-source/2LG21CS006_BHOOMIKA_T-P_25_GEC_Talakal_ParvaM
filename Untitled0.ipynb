{
  "nbformat": 4,
  "nbformat_minor": 0,
  "metadata": {
    "colab": {
      "provenance": [],
      "authorship_tag": "ABX9TyN2MJTSuI1rvZafZIc7sN1E",
      "include_colab_link": true
    },
    "kernelspec": {
      "name": "python3",
      "display_name": "Python 3"
    },
    "language_info": {
      "name": "python"
    }
  },
  "cells": [
    {
      "cell_type": "markdown",
      "metadata": {
        "id": "view-in-github",
        "colab_type": "text"
      },
      "source": [
        "<a href=\"https://colab.research.google.com/github/Bhoomika006-source/2LG21CS006_BHOOMIKA_T-P_25_GEC_Talakal_ParvaM/blob/main/Untitled0.ipynb\" target=\"_parent\"><img src=\"https://colab.research.google.com/assets/colab-badge.svg\" alt=\"Open In Colab\"/></a>"
      ]
    },
    {
      "cell_type": "code",
      "execution_count": null,
      "metadata": {
        "colab": {
          "base_uri": "https://localhost:8080/"
        },
        "id": "r3hwhhmDxn_l",
        "outputId": "427856ab-7621-4819-f1d6-6b41a7742b17"
      },
      "outputs": [
        {
          "output_type": "stream",
          "name": "stdout",
          "text": [
            "dfghjk\n"
          ]
        }
      ],
      "source": [
        "x=\"dfghjk\"\n",
        "print(x)"
      ]
    },
    {
      "cell_type": "code",
      "source": [
        "x=[\"1\",\"2\"]\n",
        "print(x)"
      ],
      "metadata": {
        "colab": {
          "base_uri": "https://localhost:8080/"
        },
        "id": "6c8i07cu0hGe",
        "outputId": "85b0d4fe-7577-4392-9725-dfa8868500f3"
      },
      "execution_count": null,
      "outputs": [
        {
          "output_type": "stream",
          "name": "stdout",
          "text": [
            "['1', '2']\n"
          ]
        }
      ]
    },
    {
      "cell_type": "code",
      "source": [
        "x={\n",
        "    \"key1\":\"Value1\",\n",
        "    \"Key2\":56,\n",
        "    \"key3\":[56,66,77],\n",
        "    \"Key4\":(34,56,78),\n",
        "    \"Key5\":{\n",
        "        \"cKey1\":[43,54,62]\n",
        "    }\n",
        "}\n",
        "print(x)\n",
        "\n"
      ],
      "metadata": {
        "colab": {
          "base_uri": "https://localhost:8080/"
        },
        "id": "dDeR1hIs7HnL",
        "outputId": "423a5d98-7dcd-4b5f-bd3e-d6ae38e07e95"
      },
      "execution_count": null,
      "outputs": [
        {
          "output_type": "stream",
          "name": "stdout",
          "text": [
            "{'key1': 'Value1', 'Key2': 56, 'key3': [56, 66, 77], 'Key4': (34, 56, 78), 'Key5': {'cKey1': [43, 54, 62]}}\n"
          ]
        }
      ]
    },
    {
      "cell_type": "code",
      "source": [],
      "metadata": {
        "id": "jDl5OX1o9WzB"
      },
      "execution_count": null,
      "outputs": []
    },
    {
      "cell_type": "code",
      "source": [
        "x=3.4\n",
        "print(type(x))\n",
        "y=str(x)\n",
        "print(type(y))\n",
        "z=float(y)\n",
        "print(type(z))"
      ],
      "metadata": {
        "colab": {
          "base_uri": "https://localhost:8080/"
        },
        "id": "tCwtALIt4pUG",
        "outputId": "9fe6c0fe-8071-40ba-e4ae-dbfe2b549035"
      },
      "execution_count": null,
      "outputs": [
        {
          "output_type": "stream",
          "name": "stdout",
          "text": [
            "<class 'float'>\n",
            "<class 'str'>\n",
            "<class 'float'>\n"
          ]
        }
      ]
    },
    {
      "cell_type": "code",
      "source": [
        "x=\"hello world\"\n",
        "print(len(x))\n",
        "print(x[0])\n",
        "y=list(x)\n",
        "print(y)\n",
        "print(y[0])\n",
        "print(type(y))\n",
        "z=str(y)\n",
        "print(z)\n",
        "print(type(z))"
      ],
      "metadata": {
        "colab": {
          "base_uri": "https://localhost:8080/"
        },
        "id": "AzcgcLXi5ZuO",
        "outputId": "99a9a9d4-51dd-463b-d4ab-c82e72aa1be5"
      },
      "execution_count": null,
      "outputs": [
        {
          "output_type": "stream",
          "name": "stdout",
          "text": [
            "11\n",
            "h\n",
            "['h', 'e', 'l', 'l', 'o', ' ', 'w', 'o', 'r', 'l', 'd']\n",
            "h\n",
            "<class 'list'>\n",
            "['h', 'e', 'l', 'l', 'o', ' ', 'w', 'o', 'r', 'l', 'd']\n",
            "<class 'str'>\n"
          ]
        }
      ]
    }
  ]
}